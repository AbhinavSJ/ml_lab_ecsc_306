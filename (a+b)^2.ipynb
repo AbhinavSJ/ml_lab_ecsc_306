{
 "cells": [
  {
   "cell_type": "code",
   "execution_count": 1,
   "metadata": {},
   "outputs": [],
   "source": [
    "import tensorflow as tf\n",
    "\n"
   ]
  },
  {
   "cell_type": "code",
   "execution_count": 5,
   "metadata": {},
   "outputs": [
    {
     "name": "stdout",
     "output_type": "stream",
     "text": [
      "121\n"
     ]
    }
   ],
   "source": [
    "a=tf.constant(5)\n",
    "b=tf.constant(6)\n",
    "with tf.name_scope(\"Operation_Group\"):\n",
    "    with tf.name_scope(\"scopeA\"):\n",
    "        c=tf.multiply(a,a,name=\"squared_constant_25\")\n",
    "        d=tf.multiply(b,b,name=\"squared_constant_36\")\n",
    "with tf.name_scope(\"scope_B\"):\n",
    "    e=tf.add(c,d,name=\"Addition_61\")\n",
    "    f=tf.multiply(a,b,name=\"multiplication_30\")\n",
    "with tf.name_scope(\"scope_c\"):\n",
    "    g=tf.multiply(2,f,name=\"multiplication_60\")\n",
    "    h=tf.add(e,g,name=\"final_answer_121\")\n",
    "with tf.Session() as sess:\n",
    "    writer = tf.summary.FileWriter(\"/tmp/tboard/output1\",sess.graph)\n",
    "    print(sess.run(h))\n",
    "    writer.close()"
   ]
  },
  {
   "cell_type": "code",
   "execution_count": null,
   "metadata": {
    "collapsed": true
   },
   "outputs": [],
   "source": []
  }
 ],
 "metadata": {
  "kernelspec": {
   "display_name": "Python 3",
   "language": "python",
   "name": "python3"
  },
  "language_info": {
   "codemirror_mode": {
    "name": "ipython",
    "version": 3
   },
   "file_extension": ".py",
   "mimetype": "text/x-python",
   "name": "python",
   "nbconvert_exporter": "python",
   "pygments_lexer": "ipython3",
   "version": "3.6.1"
  }
 },
 "nbformat": 4,
 "nbformat_minor": 2
}
