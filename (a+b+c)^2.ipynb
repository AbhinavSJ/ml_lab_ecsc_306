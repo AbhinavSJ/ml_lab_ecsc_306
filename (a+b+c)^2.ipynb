{
 "cells": [
  {
   "cell_type": "code",
   "execution_count": 4,
   "metadata": {},
   "outputs": [
    {
     "name": "stdout",
     "output_type": "stream",
     "text": [
      "69\n"
     ]
    }
   ],
   "source": [
    "import tensorflow as tf\n",
    "a=tf.constant(2)\n",
    "b=tf.constant(3)\n",
    "c=tf.constant(4)\n",
    "with tf.name_scope(\"Operation_group\"):\n",
    "    with tf.name_scope(\"scope_A\"):\n",
    "        d=tf.multiply(a,a,name=\"suared_4\")\n",
    "        e=tf.multiply(b,b,name=\"suared_9\")\n",
    "        f=tf.multiply(a,a,name=\"suared_16\")\n",
    "with tf.name_scope(\"scope_B\"):\n",
    "    g=tf.add(d,e,name=\"added_13\")\n",
    "    h=tf.add(f,g,name=\"added_29\")\n",
    "with tf.name_scope(\"scope_c\"):\n",
    "    i=tf.multiply(a,b,name=\"multiplied_6\")\n",
    "    j=tf.multiply(2,i,name=\"mutiplied_12\")\n",
    "with tf.name_scope(\"scope_D\"):\n",
    "    k=tf.multiply(b,c,name=\"multiplied_12\")\n",
    "    l=tf.multiply(2,k,name=\"multiplied_24\")\n",
    "with tf.name_scope(\"scope_E\"):\n",
    "    m=tf.multiply(c,a,name=\"multiplied_8\")\n",
    "    n=tf.multiply(2,m,name=\"multiplied_16\")\n",
    "    o=tf.add(j,l,name=\"added_36\")\n",
    "    p=tf.add(n,o,name=\"added_52\")\n",
    "    q=tf.add(h,p,name=\"final_answer_81\")\n",
    "with tf.Session() as sess:\n",
    "   ## writer = tf.Session.FileWriter(\"/tmp/tboard/output2\",sess.graph)\n",
    "    print(sess.run(q))\n",
    "    \n",
    "    ##writer.close()\n",
    "\n"
   ]
  },
  {
   "cell_type": "code",
   "execution_count": null,
   "metadata": {
    "collapsed": true
   },
   "outputs": [],
   "source": []
  }
 ],
 "metadata": {
  "kernelspec": {
   "display_name": "Python 3",
   "language": "python",
   "name": "python3"
  },
  "language_info": {
   "codemirror_mode": {
    "name": "ipython",
    "version": 3
   },
   "file_extension": ".py",
   "mimetype": "text/x-python",
   "name": "python",
   "nbconvert_exporter": "python",
   "pygments_lexer": "ipython3",
   "version": "3.6.1"
  }
 },
 "nbformat": 4,
 "nbformat_minor": 2
}
