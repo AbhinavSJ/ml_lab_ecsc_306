{
 "cells": [
  {
   "cell_type": "code",
   "execution_count": 3,
   "metadata": {},
   "outputs": [],
   "source": [
    "import tensorflow as tf"
   ]
  },
  {
   "cell_type": "code",
   "execution_count": 6,
   "metadata": {},
   "outputs": [
    {
     "name": "stdout",
     "output_type": "stream",
     "text": [
      "[ 5.  3.  3.  4.  3.]\n",
      "[ 6.  4.  3.  5.  6.]\n"
     ]
    }
   ],
   "source": [
    "arr1=tf.constant([5,3,3,4,3])\n",
    "arr2=tf.constant([6,4,3,5,6])\n",
    "result = tf.global_variables_initializer()\n",
    "with tf.Session() as session:\n",
    "    session.run(result)\n",
    "    print(session.run(arr1))\n",
    "with tf.Session() as session:\n",
    "    session.run(result)\n",
    "    print(session.run(arr2))"
   ]
  },
  {
   "cell_type": "code",
   "execution_count": 9,
   "metadata": {},
   "outputs": [
    {
     "name": "stdout",
     "output_type": "stream",
     "text": [
      "[ 11.   7.   6.   9.   9.]\n"
     ]
    }
   ],
   "source": [
    "a = tf.add(arr1,arr2,)\n",
    "with tf.Session() as sess:\n",
    "    print(sess.run(a))"
   ]
  },
  {
   "cell_type": "code",
   "execution_count": 18,
   "metadata": {},
   "outputs": [
    {
     "name": "stdout",
     "output_type": "stream",
     "text": [
      "3.6\n",
      "4.8\n"
     ]
    }
   ],
   "source": [
    "mean1=tf.reduce_mean(arr1)\n",
    "with tf.Session() as sess:\n",
    "    print(sess.run(mean1))\n",
    "mean2=tf.reduce_mean(arr2)\n",
    "with tf.Session() as sess:\n",
    "    print(sess.run(mean2))\n"
   ]
  },
  {
   "cell_type": "code",
   "execution_count": 19,
   "metadata": {},
   "outputs": [
    {
     "name": "stdout",
     "output_type": "stream",
     "text": [
      "[ 1.4000001 -0.5999999 -0.5999999  0.4000001 -0.5999999]\n"
     ]
    }
   ],
   "source": [
    "##calculating the variance for x: variance(x) = sum((x-mean(x))2)\n",
    "rhs=tf.subtract(arr1,mean1)\n",
    "with tf.Session() as sess:\n",
    "    print(sess.run(rhs))\n"
   ]
  },
  {
   "cell_type": "code",
   "execution_count": 42,
   "metadata": {},
   "outputs": [
    {
     "name": "stdout",
     "output_type": "stream",
     "text": [
      "0.64\n"
     ]
    }
   ],
   "source": [
    "##squaring the values of array and calculating variance\n",
    "squared_rhs= tf.square(rhs)\n",
    "var_x = tf.reduce_mean(squared_rhs)\n",
    "with tf.Session() as sess:\n",
    "    print(sess.run(var_x))\n",
    "\n",
    "\n"
   ]
  },
  {
   "cell_type": "code",
   "execution_count": 41,
   "metadata": {},
   "outputs": [
    {
     "name": "stdout",
     "output_type": "stream",
     "text": [
      "[ 1.4000001 -0.5999999 -0.5999999  0.4000001 -0.5999999]\n",
      "[ 2.4000001  0.4000001 -0.5999999  1.4000001  2.4000001]\n",
      "[ 3.36000037 -0.24000002  0.3599999   0.56000018 -1.43999982]\n",
      "0.52\n"
     ]
    }
   ],
   "source": [
    "##calculating the covariance of x and y\n",
    "farr1=tf.subtract(arr1,mean1)\n",
    "with tf.Session() as sess:\n",
    "    print(sess.run(farr1))\n",
    "farr2=tf.subtract(arr2,mean1)\n",
    "with tf.Session() as sess:\n",
    "    print(sess.run(farr2))\n",
    "mul_arrays = tf.multiply(farr1,farr2)\n",
    "with tf.Session() as sess:\n",
    "    print(sess.run(mul_arrays))\n",
    "cov = tf.reduce_mean(mul_arrays)\n",
    "with tf.Session() as sess:\n",
    "    print(sess.run(cov))\n",
    "\n"
   ]
  },
  {
   "cell_type": "code",
   "execution_count": 45,
   "metadata": {},
   "outputs": [
    {
     "name": "stdout",
     "output_type": "stream",
     "text": [
      "0.8125\n"
     ]
    }
   ],
   "source": [
    "##calculating m\n",
    "m = tf.divide(cov,var_x)\n",
    "with tf.Session() as sess:\n",
    "    print(sess.run(m))"
   ]
  },
  {
   "cell_type": "code",
   "execution_count": 52,
   "metadata": {},
   "outputs": [
    {
     "name": "stdout",
     "output_type": "stream",
     "text": [
      "1.875\n"
     ]
    }
   ],
   "source": [
    "##calculating c\n",
    "inter_c = tf.multiply(mean1,m)\n",
    "c= tf.subtract(mean2,inter_c)\n",
    "with tf.Session() as sess:\n",
    "    print(sess.run(c))"
   ]
  },
  {
   "cell_type": "code",
   "execution_count": null,
   "metadata": {},
   "outputs": [],
   "source": []
  },
  {
   "cell_type": "code",
   "execution_count": null,
   "metadata": {
    "collapsed": true
   },
   "outputs": [],
   "source": []
  }
 ],
 "metadata": {
  "kernelspec": {
   "display_name": "Python 3",
   "language": "python",
   "name": "python3"
  },
  "language_info": {
   "codemirror_mode": {
    "name": "ipython",
    "version": 3
   },
   "file_extension": ".py",
   "mimetype": "text/x-python",
   "name": "python",
   "nbconvert_exporter": "python",
   "pygments_lexer": "ipython3",
   "version": "3.6.1"
  }
 },
 "nbformat": 4,
 "nbformat_minor": 2
}
